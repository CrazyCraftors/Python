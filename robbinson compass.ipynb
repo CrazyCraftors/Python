{
 "cells": [
  {
   "cell_type": "code",
   "execution_count": 1,
   "id": "f64687ef-a209-444f-a2fc-66bb08b32b05",
   "metadata": {},
   "outputs": [],
   "source": [
    "import  cv2\n",
    "import numpy as np\n",
    "from matplotlib import pyplot as plt"
   ]
  },
  {
   "cell_type": "code",
   "execution_count": 2,
   "id": "0a441f42-fe10-4a86-8705-605bb68032dd",
   "metadata": {},
   "outputs": [],
   "source": [
    "img = cv2.imread('imagen.jpeg')"
   ]
  },
  {
   "cell_type": "code",
   "execution_count": 3,
   "id": "e49add86-c48a-4759-8176-9c0221a93db8",
   "metadata": {},
   "outputs": [],
   "source": [
    "import scipy\n",
    "from scipy import ndimage"
   ]
  },
  {
   "cell_type": "code",
   "execution_count": 4,
   "id": "979bcb45-5028-4d8b-bd4c-56794de2262c",
   "metadata": {},
   "outputs": [],
   "source": [
    "e_k = np.zeros_like(img)\n",
    "s_k = np.zeros_like(img)\n",
    "n_k = np.zeros_like(img)\n",
    "nw_k = np.zeros_like(img)\n",
    "ne_k = np.zeros_like(img)\n",
    "sw_k = np.zeros_like(img)\n",
    "se_k = np.zeros_like(img)\n",
    "w_k = np.zeros_like(img)"
   ]
  },
  {
   "cell_type": "code",
   "execution_count": 5,
   "id": "d2cc3560-d8c8-4ed5-b9a9-304ea591f760",
   "metadata": {},
   "outputs": [],
   "source": [
    "ka= np.array([[-1,-2,-1],[0,0,0],[1,2,1]])\n",
    "na= np.array([[-1,0,1],[-2,0,2],[-1,0,1]])\n",
    "wa= np.array([[1,2,1],[0,0,0],[-1,-2,-1]])\n",
    "sa= np.array([[1,0,-1],[2,0,-2],[1,0,-1]])\n",
    "nea= np.array([[-2,-1,0],[-1,0,1],[0,1,2]])\n",
    "nwa= np.array([[0,1,2],[-1,0,1],[-2,-1,0]])\n",
    "sea= np.array([[0,-1,-2],[1,0,-1],[2,1,0]])\n",
    "swa= np.array([[2,1,0],[1,0,-1],[0,-1,-2]])"
   ]
  },
  {
   "cell_type": "code",
   "execution_count": 6,
   "id": "7876446e-9ba7-4f7d-9e6c-ae8ca59686e5",
   "metadata": {},
   "outputs": [
    {
     "ename": "RuntimeError",
     "evalue": "filter weights array has incorrect shape.",
     "output_type": "error",
     "traceback": [
      "\u001b[1;31m---------------------------------------------------------------------------\u001b[0m",
      "\u001b[1;31mRuntimeError\u001b[0m                              Traceback (most recent call last)",
      "Cell \u001b[1;32mIn[6], line 1\u001b[0m\n\u001b[1;32m----> 1\u001b[0m e_k\u001b[38;5;241m=\u001b[39m\u001b[43mndimage\u001b[49m\u001b[38;5;241;43m.\u001b[39;49m\u001b[43mconvolve\u001b[49m\u001b[43m(\u001b[49m\u001b[43mimg\u001b[49m\u001b[43m,\u001b[49m\u001b[43mka\u001b[49m\u001b[43m,\u001b[49m\u001b[43mmode\u001b[49m\u001b[38;5;241;43m=\u001b[39;49m\u001b[38;5;124;43m'\u001b[39;49m\u001b[38;5;124;43mnearest\u001b[39;49m\u001b[38;5;124;43m'\u001b[39;49m\u001b[43m,\u001b[49m\u001b[43mcval\u001b[49m\u001b[38;5;241;43m=\u001b[39;49m\u001b[38;5;241;43m0.0\u001b[39;49m\u001b[43m)\u001b[49m\n\u001b[0;32m      2\u001b[0m s_k\u001b[38;5;241m=\u001b[39mndimage\u001b[38;5;241m.\u001b[39mconvolve(img,sa,mode\u001b[38;5;241m=\u001b[39m\u001b[38;5;124m'\u001b[39m\u001b[38;5;124mnearest\u001b[39m\u001b[38;5;124m'\u001b[39m,cval\u001b[38;5;241m=\u001b[39m\u001b[38;5;241m0.0\u001b[39m)\n\u001b[0;32m      3\u001b[0m s_k\u001b[38;5;241m=\u001b[39mndimage\u001b[38;5;241m.\u001b[39mconvolve(img,sa,mode\u001b[38;5;241m=\u001b[39m\u001b[38;5;124m'\u001b[39m\u001b[38;5;124mnearest\u001b[39m\u001b[38;5;124m'\u001b[39m,cval\u001b[38;5;241m=\u001b[39m\u001b[38;5;241m0.0\u001b[39m)\n",
      "File \u001b[1;32m~\\AppData\\Local\\Programs\\Python\\Python311\\Lib\\site-packages\\scipy\\ndimage\\_filters.py:917\u001b[0m, in \u001b[0;36mconvolve\u001b[1;34m(input, weights, output, mode, cval, origin)\u001b[0m\n\u001b[0;32m    810\u001b[0m \u001b[38;5;129m@_ni_docstrings\u001b[39m\u001b[38;5;241m.\u001b[39mdocfiller\n\u001b[0;32m    811\u001b[0m \u001b[38;5;28;01mdef\u001b[39;00m \u001b[38;5;21mconvolve\u001b[39m(\u001b[38;5;28minput\u001b[39m, weights, output\u001b[38;5;241m=\u001b[39m\u001b[38;5;28;01mNone\u001b[39;00m, mode\u001b[38;5;241m=\u001b[39m\u001b[38;5;124m'\u001b[39m\u001b[38;5;124mreflect\u001b[39m\u001b[38;5;124m'\u001b[39m, cval\u001b[38;5;241m=\u001b[39m\u001b[38;5;241m0.0\u001b[39m,\n\u001b[0;32m    812\u001b[0m              origin\u001b[38;5;241m=\u001b[39m\u001b[38;5;241m0\u001b[39m):\n\u001b[0;32m    813\u001b[0m \u001b[38;5;250m    \u001b[39m\u001b[38;5;124;03m\"\"\"\u001b[39;00m\n\u001b[0;32m    814\u001b[0m \u001b[38;5;124;03m    Multidimensional convolution.\u001b[39;00m\n\u001b[0;32m    815\u001b[0m \n\u001b[1;32m   (...)\u001b[0m\n\u001b[0;32m    915\u001b[0m \n\u001b[0;32m    916\u001b[0m \u001b[38;5;124;03m    \"\"\"\u001b[39;00m\n\u001b[1;32m--> 917\u001b[0m     \u001b[38;5;28;01mreturn\u001b[39;00m \u001b[43m_correlate_or_convolve\u001b[49m\u001b[43m(\u001b[49m\u001b[38;5;28;43minput\u001b[39;49m\u001b[43m,\u001b[49m\u001b[43m \u001b[49m\u001b[43mweights\u001b[49m\u001b[43m,\u001b[49m\u001b[43m \u001b[49m\u001b[43moutput\u001b[49m\u001b[43m,\u001b[49m\u001b[43m \u001b[49m\u001b[43mmode\u001b[49m\u001b[43m,\u001b[49m\u001b[43m \u001b[49m\u001b[43mcval\u001b[49m\u001b[43m,\u001b[49m\n\u001b[0;32m    918\u001b[0m \u001b[43m                                  \u001b[49m\u001b[43morigin\u001b[49m\u001b[43m,\u001b[49m\u001b[43m \u001b[49m\u001b[38;5;28;43;01mTrue\u001b[39;49;00m\u001b[43m)\u001b[49m\n",
      "File \u001b[1;32m~\\AppData\\Local\\Programs\\Python\\Python311\\Lib\\site-packages\\scipy\\ndimage\\_filters.py:715\u001b[0m, in \u001b[0;36m_correlate_or_convolve\u001b[1;34m(input, weights, output, mode, cval, origin, convolution)\u001b[0m\n\u001b[0;32m    713\u001b[0m wshape \u001b[38;5;241m=\u001b[39m [ii \u001b[38;5;28;01mfor\u001b[39;00m ii \u001b[38;5;129;01min\u001b[39;00m weights\u001b[38;5;241m.\u001b[39mshape \u001b[38;5;28;01mif\u001b[39;00m ii \u001b[38;5;241m>\u001b[39m \u001b[38;5;241m0\u001b[39m]\n\u001b[0;32m    714\u001b[0m \u001b[38;5;28;01mif\u001b[39;00m \u001b[38;5;28mlen\u001b[39m(wshape) \u001b[38;5;241m!=\u001b[39m \u001b[38;5;28minput\u001b[39m\u001b[38;5;241m.\u001b[39mndim:\n\u001b[1;32m--> 715\u001b[0m     \u001b[38;5;28;01mraise\u001b[39;00m \u001b[38;5;167;01mRuntimeError\u001b[39;00m(\u001b[38;5;124m'\u001b[39m\u001b[38;5;124mfilter weights array has incorrect shape.\u001b[39m\u001b[38;5;124m'\u001b[39m)\n\u001b[0;32m    716\u001b[0m \u001b[38;5;28;01mif\u001b[39;00m convolution:\n\u001b[0;32m    717\u001b[0m     weights \u001b[38;5;241m=\u001b[39m weights[\u001b[38;5;28mtuple\u001b[39m([\u001b[38;5;28mslice\u001b[39m(\u001b[38;5;28;01mNone\u001b[39;00m, \u001b[38;5;28;01mNone\u001b[39;00m, \u001b[38;5;241m-\u001b[39m\u001b[38;5;241m1\u001b[39m)] \u001b[38;5;241m*\u001b[39m weights\u001b[38;5;241m.\u001b[39mndim)]\n",
      "\u001b[1;31mRuntimeError\u001b[0m: filter weights array has incorrect shape."
     ]
    }
   ],
   "source": [
    "e_k=ndimage.convolve(img,ka,mode='nearest',cval=0.0)\n",
    "s_k=ndimage.convolve(img,sa,mode='nearest',cval=0.0)\n",
    "s_k=ndimage.convolve(img,sa,mode='nearest',cval=0.0)\n",
    "ne_k=ndimage.convolve(img,nea,mode='nearest',cval=0.0)\n",
    "nw_k=ndimage.convolve(img,nwa,mode='nearest',cval=0.0)\n",
    "se_k=ndimage.convolve(img,sea,mode='nearest',cval=0.0)\n",
    "sw_k=ndimage.convolve(img,swa,mode='nearest',cval=0.0)"
   ]
  },
  {
   "cell_type": "code",
   "execution_count": null,
   "id": "6e44b2d2-1f57-4f2c-b8bc-2d9771d545be",
   "metadata": {},
   "outputs": [],
   "source": []
  }
 ],
 "metadata": {
  "kernelspec": {
   "display_name": "Python 3 (ipykernel)",
   "language": "python",
   "name": "python3"
  },
  "language_info": {
   "codemirror_mode": {
    "name": "ipython",
    "version": 3
   },
   "file_extension": ".py",
   "mimetype": "text/x-python",
   "name": "python",
   "nbconvert_exporter": "python",
   "pygments_lexer": "ipython3",
   "version": "3.11.5"
  }
 },
 "nbformat": 4,
 "nbformat_minor": 5
}
